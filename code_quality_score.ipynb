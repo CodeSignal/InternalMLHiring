{
 "cells": [
  {
   "cell_type": "code",
   "execution_count": null,
   "metadata": {},
   "outputs": [],
   "source": [
    "# Dont forget to create a virtual environment to avoid conflicts with other packages\n",
    "%pip install pandas seaborn numpy matplotlib scikit-learn"
   ]
  },
  {
   "cell_type": "code",
   "execution_count": null,
   "metadata": {},
   "outputs": [],
   "source": [
    "import pandas as pd\n",
    "import numpy as np\n",
    "import matplotlib.pyplot as plt\n",
    "import seaborn as sns\n",
    "import joblib\n"
   ]
  },
  {
   "cell_type": "code",
   "execution_count": null,
   "metadata": {},
   "outputs": [],
   "source": [
    "from sklearn.metrics import mean_absolute_error\n",
    "\n",
    "\n",
    "def plot_results(y_true, y_pred, color=None):\n",
    "    if color is None:\n",
    "        color = np.abs(y_true - y_pred)\n",
    "    fig, ax = plt.subplots()\n",
    "    sc = plt.scatter(y_true, y_pred, c=color, cmap=\"viridis\")\n",
    "    cb = fig.colorbar(sc)\n",
    "    cb.set_label(\"Error\")\n",
    "\n",
    "    plt.plot([0, 1], [0, 1], \"g--\")\n",
    "    plt.xlabel(\"true\")\n",
    "    plt.ylabel(\"pred\")\n",
    "    plt.tight_layout()\n",
    "\n",
    "\n",
    "def check_model(model, X_train, X_test, y_train, y_test):\n",
    "    model.fit(X_train, y_train)\n",
    "    predictions = model.predict(X_test)\n",
    "\n",
    "    print(f\"MAE (TRAIN): {mean_absolute_error(model.predict(X_train), y_train)}\")\n",
    "    print(f\"MAE (TEST): {mean_absolute_error(predictions, y_test)}\")\n",
    "\n",
    "    plot_results(\n",
    "        y_test, predictions, color=X_test[\"ERROR\"] if \"ERROR\" in X_test else None\n",
    "    )"
   ]
  },
  {
   "cell_type": "code",
   "execution_count": null,
   "metadata": {},
   "outputs": [],
   "source": [
    "df_train = pd.read_csv('train.csv', index_col=0)\n",
    "df_test = pd.read_csv('test.csv', index_col=0)\n",
    "\n",
    "df_train['CODE_QUALITY'] = np.mean(df_train[['REVIEWER_1','REVIEWER_2']], axis=1)\n",
    "df_test['CODE_QUALITY'] = np.mean(df_test[['REVIEWER_1','REVIEWER_2']], axis=1)\n"
   ]
  },
  {
   "cell_type": "code",
   "execution_count": null,
   "metadata": {},
   "outputs": [],
   "source": [
    "from sklearn.model_selection import train_test_split\n",
    "\n",
    "X_train = df_train.drop(['CODE_QUALITY'], axis=1)\n",
    "X_test = df_test.drop(['CODE_QUALITY'], axis=1)\n",
    "\n",
    "y_train = df_train['CODE_QUALITY']\n",
    "y_test = df_test['CODE_QUALITY']\n"
   ]
  },
  {
   "cell_type": "code",
   "execution_count": null,
   "metadata": {},
   "outputs": [],
   "source": [
    "from sklearn.linear_model import LinearRegression\n",
    "\n",
    "local_X_train, local_X_test = X_train.copy(), X_test.copy()\n",
    "local_y_train, local_y_test = y_train.copy(), y_test.copy()\n",
    "\n",
    "# Normalize\n",
    "local_X_train = local_X_train.select_dtypes(include=np.number).apply(lambda x: (x - x.mean()) / x.std())\n",
    "local_X_test = local_X_test.select_dtypes(include=np.number).apply(lambda x: (x - x.mean()) / x.std())\n",
    "\n",
    "# One hot encoding\n",
    "local_X_train = pd.get_dummies(local_X_train)\n",
    "local_X_test = pd.get_dummies(local_X_test)\n",
    "\n",
    "model = LinearRegression()\n",
    "check_model(model, local_X_train, local_X_test, local_y_train, local_y_test)\n",
    "\n",
    "joblib.dump(model, 'linear_regression.joblib');\n"
   ]
  },
  {
   "cell_type": "code",
   "execution_count": null,
   "metadata": {},
   "outputs": [],
   "source": [
    "from sklearn.neighbors import KNeighborsRegressor\n",
    "\n",
    "local_X_train, local_X_test = X_train.copy(), X_test.copy()\n",
    "local_y_train, local_y_test = y_train.copy(), y_test.copy()\n",
    "\n",
    "# Normalize\n",
    "local_X_train = local_X_train.select_dtypes(include=np.number).apply(lambda x: (x - x.mean()) / x.std())\n",
    "local_X_test = local_X_test.select_dtypes(include=np.number).apply(lambda x: (x - x.mean()) / x.std())\n",
    "\n",
    "# One hot encoding\n",
    "local_X_train = pd.get_dummies(local_X_train)\n",
    "local_X_test = pd.get_dummies(local_X_test)\n",
    "\n",
    "model = KNeighborsRegressor()\n",
    "check_model(model, local_X_train, local_X_test, local_y_train, local_y_test)\n",
    "\n",
    "joblib.dump(model, 'knn_regression.joblib');"
   ]
  },
  {
   "cell_type": "code",
   "execution_count": null,
   "metadata": {},
   "outputs": [],
   "source": [
    "from sklearn.tree import DecisionTreeRegressor\n",
    "\n",
    "local_X_train, local_X_test = X_train.copy(), X_test.copy()\n",
    "local_y_train, local_y_test = y_train.copy(), y_test.copy()\n",
    "\n",
    "# Normalize\n",
    "local_X_train = local_X_train.select_dtypes(include=np.number).apply(lambda x: (x - x.mean()) / x.std())\n",
    "local_X_test = local_X_test.select_dtypes(include=np.number).apply(lambda x: (x - x.mean()) / x.std())\n",
    "\n",
    "# One hot encoding\n",
    "local_X_train = pd.get_dummies(local_X_train)\n",
    "local_X_test = pd.get_dummies(local_X_test)\n",
    "\n",
    "model = DecisionTreeRegressor()\n",
    "check_model(model, local_X_train, local_X_test, local_y_train, local_y_test)\n",
    "\n",
    "joblib.dump(model, 'decision_tree_regression.joblib');"
   ]
  },
  {
   "cell_type": "code",
   "execution_count": null,
   "metadata": {},
   "outputs": [],
   "source": []
  }
 ],
 "metadata": {
  "kernelspec": {
   "display_name": ".venv",
   "language": "python",
   "name": "python3"
  },
  "language_info": {
   "codemirror_mode": {
    "name": "ipython",
    "version": 3
   },
   "file_extension": ".py",
   "mimetype": "text/x-python",
   "name": "python",
   "nbconvert_exporter": "python",
   "pygments_lexer": "ipython3",
   "version": "3.10.9"
  },
  "orig_nbformat": 4,
  "vscode": {
   "interpreter": {
    "hash": "8f3af7c72321252da151736edcd756595c89b77e8e09e269aaaaf8baff46bed9"
   }
  }
 },
 "nbformat": 4,
 "nbformat_minor": 2
}
